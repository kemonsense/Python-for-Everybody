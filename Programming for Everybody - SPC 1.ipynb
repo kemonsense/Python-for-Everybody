{
 "cells": [
  {
   "cell_type": "code",
   "execution_count": 2,
   "metadata": {},
   "outputs": [
    {
     "name": "stdout",
     "output_type": "stream",
     "text": [
      "hello world\n"
     ]
    }
   ],
   "source": [
    "# Programming for Everybody\n",
    "# Week 3\n",
    "# Assignment \n",
    "#--------------------\n",
    "# the code below almost works\n",
    "print(\"hello world\")"
   ]
  },
  {
   "cell_type": "code",
   "execution_count": null,
   "metadata": {},
   "outputs": [],
   "source": [
    "# Programming for Everybody\n",
    "# Week 4\n",
    "# Assignment 2.2\n",
    "#--------------------\n",
    "# 2.2 Write a program that uses input to prompt a user for their name and \n",
    "# then welcomes them. Note that input will pop up a dialog box. Enter Sarah \n",
    "# in the pop-up box when you are prompted so your output will match the \n",
    "# desired output.\n",
    "\n",
    "# The code below almost works\n",
    "\n",
    "name = input(\"Enter your name\")\n",
    "print('Hello',name)"
   ]
  },
  {
   "cell_type": "code",
   "execution_count": null,
   "metadata": {},
   "outputs": [],
   "source": [
    "# Programming for Everybody\n",
    "# Week 4\n",
    "# Assignment 2.3\n",
    "#--------------------\n",
    "# 2.3 Write a program to prompt the user for hours and rate per hour using \n",
    "# input to compute gross pay. Use 35 hours and a rate of 2.75 per hour to \n",
    "# test the program (the pay should be 96.25). You should use input to read \n",
    "# a string and float() to convert the string to a number. Do not worry about \n",
    "# error checking or bad user data.\n",
    "\n",
    "# This first line is provided for you\n",
    "\n",
    "hrs = int(input(\"Enter Hours:\"))\n",
    "rate = float(input(\"Enter Rate:\"))\n",
    "\n",
    "pay = hrs*rate\n",
    "\n",
    "print('Pay:', pay)"
   ]
  },
  {
   "cell_type": "code",
   "execution_count": null,
   "metadata": {},
   "outputs": [],
   "source": [
    "# Programming for Everybody\n",
    "# Week 5\n",
    "# Assignment 3.1\n",
    "#-------------------\n",
    "# 3.1 Write a program to prompt the user for hours and rate per hour using \n",
    "# input to compute gross pay. Pay the hourly rate for the hours up to 40 and \n",
    "# 1.5 times the hourly rate for all hours worked above 40 hours. Use 45 hours\n",
    "# and a rate of 10.50 per hour to test the program (the pay should be 498.75).\n",
    "# You should use input to read a string and float() to convert the string to \n",
    "# a number. Do not worry about error checking the user input - assume the \n",
    "# user types numbers properly.\n",
    "\n",
    "hrs = float(input(\"Enter Hours:\"))\n",
    "rate = float(input(\"Enter Rate:\"))\n",
    "\n",
    "if hrs>40:\n",
    "    hr = hrs-40\n",
    "    rat = rate*1.5\n",
    "    pay = (40*rate+hr*rat)\n",
    "else:\n",
    "    pay = hrs*rate\n",
    " \n",
    "print(pay)"
   ]
  },
  {
   "cell_type": "code",
   "execution_count": null,
   "metadata": {},
   "outputs": [],
   "source": [
    "# Programming for Everybody\n",
    "# Week 5\n",
    "# Assignment 3.3\n",
    "#-------------------\n",
    "# 3.3 Write a program to prompt for a score between 0.0 and 1.0. If the score\n",
    "# is out of range, print an error. If the score is between 0.0 and 1.0, \n",
    "# print a grade using the following table:\n",
    "# Score Grade\n",
    "# >= 0.9 A\n",
    "# >= 0.8 B\n",
    "# >= 0.7 C\n",
    "# >= 0.6 D\n",
    "# < 0.6 F\n",
    "# If the user enters a value out of range, print a suitable error message \n",
    "# and exit. For the test, enter a score of 0.85.\n",
    "\n",
    "score = float(input(\"Enter Score: \"))\n",
    "\n",
    "if score<=1 and score>=0.9:\n",
    "    print('A')\n",
    "elif score<0.9 and score>=0.8:\n",
    "    print('B')\n",
    "elif score<0.8 and score>=0.7:\n",
    "    print('C')\n",
    "elif score<0.7 and score>=0.6:\n",
    "    print('D')\n",
    "elif score<0.6 and score>=0:\n",
    "    print('F')\n",
    "else:\n",
    "    print(\"Error\")"
   ]
  },
  {
   "cell_type": "code",
   "execution_count": null,
   "metadata": {},
   "outputs": [],
   "source": [
    "# Programming for Everybody\n",
    "# Week 6\n",
    "# Assignment 4.6\n",
    "#-------------------\n",
    "# 4.6 Write a program to prompt the user for hours and rate per hour using \n",
    "# input to compute gross pay. Pay should be the normal rate for hours up to \n",
    "# 40 and time-and-a-half for the hourly rate for all hours worked above 40 \n",
    "# hours. Put the logic to do the computation of pay in a function called \n",
    "# computepay() and use the function to do the computation. The function \n",
    "# should return a value. Use 45 hours and a rate of 10.50 per hour to test \n",
    "# the program (the pay should be 498.75). You should use input to read a \n",
    "# string and float() to convert the string to a number. Do not worry about \n",
    "# error checking the user input unless you want to - you can assume the user \n",
    "# types numbers properly. Do not name your variable sum or use the sum() \n",
    "# function.\n",
    "\n",
    "def computepay(h,r):\n",
    "    if h>40:\n",
    "        rate1 = (r*1.5)*(h-40)\n",
    "    return ((h-5)*r)+rate1\n",
    "\n",
    "hrs = float(input(\"Enter Hours:\"))\n",
    "rate = float(input(\"Enter Rate:\"))\n",
    "\n",
    "p = computepay(hrs,rate)\n",
    "print ('Pay',p)"
   ]
  },
  {
   "cell_type": "code",
   "execution_count": null,
   "metadata": {},
   "outputs": [],
   "source": [
    "# Programming for Everybody\n",
    "# Week 7\n",
    "# Assignment 5.2\n",
    "#-------------------\n",
    "# 5.2 Write a program that repeatedly prompts a user for integer numbers \n",
    "# until the user enters 'done'. Once 'done' is entered, print out the largest\n",
    "# and smallest of the numbers. If the user enters anything other than a \n",
    "# valid number catch it with a try/except and put out an appropriate message \n",
    "# and ignore the number. Enter 7, 2, bob, 10, and 4 and match the output \n",
    "# below.\n",
    "\n",
    "largest = None\n",
    "smallest = None\n",
    "while True:\n",
    "    num = input(\"Enter a number: \")\n",
    "    if num == \"done\": break\n",
    "    try:\n",
    "        num = int(num)\n",
    "        if largest is None or largest < num: largest = num\n",
    "        if smallest is None or smallest > num: smallest = num\n",
    "    except:\n",
    "        print (\"Invalid input\")\n",
    "        continue\n",
    "print (\"Maximum is\",largest)\n",
    "print (\"Minimum is\",smallest)"
   ]
  }
 ],
 "metadata": {
  "kernelspec": {
   "display_name": "Python 3",
   "language": "python",
   "name": "python3"
  },
  "language_info": {
   "codemirror_mode": {
    "name": "ipython",
    "version": 3
   },
   "file_extension": ".py",
   "mimetype": "text/x-python",
   "name": "python",
   "nbconvert_exporter": "python",
   "pygments_lexer": "ipython3",
   "version": "3.7.6"
  }
 },
 "nbformat": 4,
 "nbformat_minor": 4
}
